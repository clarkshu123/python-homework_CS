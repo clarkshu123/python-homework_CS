{
 "cells": [
  {
   "cell_type": "code",
   "execution_count": 1,
   "id": "d81b72b6",
   "metadata": {
    "ExecuteTime": {
     "end_time": "2021-05-06T16:44:43.303128Z",
     "start_time": "2021-05-06T16:44:43.291150Z"
    }
   },
   "outputs": [],
   "source": [
    "# Import the pathlib and csv library\n",
    "from pathlib import Path\n",
    "import csv"
   ]
  },
  {
   "cell_type": "code",
   "execution_count": 2,
   "id": "668444fe",
   "metadata": {
    "ExecuteTime": {
     "end_time": "2021-05-06T16:45:00.354474Z",
     "start_time": "2021-05-06T16:45:00.345498Z"
    }
   },
   "outputs": [
    {
     "name": "stdout",
     "output_type": "stream",
     "text": [
      "D:\\Dropbox\\Northwestern Bootcamp\\python-homework_CS\\PyBank\n"
     ]
    }
   ],
   "source": [
    "# Set the file path\n",
    "print(Path.cwd())\n",
    "csvpath = Path('budget_data.csv')"
   ]
  },
  {
   "cell_type": "code",
   "execution_count": 3,
   "id": "4f609231",
   "metadata": {
    "ExecuteTime": {
     "end_time": "2021-05-06T16:51:53.230491Z",
     "start_time": "2021-05-06T16:51:52.878569Z"
    },
    "scrolled": true
   },
   "outputs": [
    {
     "name": "stdout",
     "output_type": "stream",
     "text": [
      "['Date', 'Profit/Losses'] <---- HEADER\n",
      "['Jan-2010', '867884']\n",
      "['Feb-2010', '984655']\n",
      "['Mar-2010', '322013']\n",
      "['Apr-2010', '-69417']\n",
      "['May-2010', '310503']\n",
      "['Jun-2010', '522857']\n",
      "['Jul-2010', '1033096']\n",
      "['Aug-2010', '604885']\n",
      "['Sep-2010', '-216386']\n",
      "['Oct-2010', '477532']\n",
      "['Nov-2010', '893810']\n",
      "['Dec-2010', '-80353']\n",
      "['Jan-2011', '779806']\n",
      "['Feb-2011', '-335203']\n",
      "['Mar-2011', '697845']\n",
      "['Apr-2011', '793163']\n",
      "['May-2011', '485070']\n",
      "['Jun-2011', '584122']\n",
      "['Jul-2011', '62729']\n",
      "['Aug-2011', '668179']\n",
      "['Sep-2011', '899906']\n",
      "['Oct-2011', '834719']\n",
      "['Nov-2011', '132003']\n",
      "['Dec-2011', '309978']\n",
      "['Jan-2012', '-755566']\n",
      "['Feb-2012', '1170593']\n",
      "['Mar-2012', '252788']\n",
      "['Apr-2012', '1151518']\n",
      "['May-2012', '817256']\n",
      "['Jun-2012', '570757']\n",
      "['Jul-2012', '506702']\n",
      "['Aug-2012', '-1022534']\n",
      "['Sep-2012', '475062']\n",
      "['Oct-2012', '779976']\n",
      "['Nov-2012', '144175']\n",
      "['Dec-2012', '542494']\n",
      "['Jan-2013', '359333']\n",
      "['Feb-2013', '321469']\n",
      "['Mar-2013', '67780']\n",
      "['Apr-2013', '471435']\n",
      "['May-2013', '565603']\n",
      "['Jun-2013', '872480']\n",
      "['Jul-2013', '789480']\n",
      "['Aug-2013', '999942']\n",
      "['Sep-2013', '-1196225']\n",
      "['Oct-2013', '268997']\n",
      "['Nov-2013', '-687986']\n",
      "['Dec-2013', '1150461']\n",
      "['Jan-2014', '682458']\n",
      "['Feb-2014', '617856']\n",
      "['Mar-2014', '824098']\n",
      "['Apr-2014', '581943']\n",
      "['May-2014', '132864']\n",
      "['Jun-2014', '448062']\n",
      "['Jul-2014', '689161']\n",
      "['Aug-2014', '800701']\n",
      "['Sep-2014', '1166643']\n",
      "['Oct-2014', '947333']\n",
      "['Nov-2014', '578668']\n",
      "['Dec-2014', '988505']\n",
      "['Jan-2015', '1139715']\n",
      "['Feb-2015', '1029471']\n",
      "['Mar-2015', '687533']\n",
      "['Apr-2015', '-524626']\n",
      "['May-2015', '158620']\n",
      "['Jun-2015', '87795']\n",
      "['Jul-2015', '423389']\n",
      "['Aug-2015', '840723']\n",
      "['Sep-2015', '568529']\n",
      "['Oct-2015', '332067']\n",
      "['Nov-2015', '989499']\n",
      "['Dec-2015', '778237']\n",
      "['Jan-2016', '650000']\n",
      "['Feb-2016', '-1100387']\n",
      "['Mar-2016', '-174946']\n",
      "['Apr-2016', '757143']\n",
      "['May-2016', '445709']\n",
      "['Jun-2016', '712961']\n",
      "['Jul-2016', '-1163797']\n",
      "['Aug-2016', '569899']\n",
      "['Sep-2016', '768450']\n",
      "['Oct-2016', '102685']\n",
      "['Nov-2016', '795914']\n",
      "['Dec-2016', '60988']\n",
      "['Jan-2017', '138230']\n",
      "['Feb-2017', '671099']\n"
     ]
    }
   ],
   "source": [
    "# Initiate variables to hold month, profit/losses and monthly changes\n",
    "month = []\n",
    "amount = []\n",
    "change = []\n",
    "\n",
    "# Initiate a line number\n",
    "line_num = 0\n",
    "\n",
    "# Loop through each line\n",
    "with open(csvpath, 'r') as csvfile:\n",
    "    \n",
    "    # pass in the csv file to the csv.read() function\n",
    "    csvreader = csv.reader(csvfile, delimiter=',')\n",
    "    \n",
    "    # get the header\n",
    "    header = next(csvreader)\n",
    "    line_num += 1\n",
    "    \n",
    "    # print the header\n",
    "    print(f\"{header} <---- HEADER\")\n",
    "    \n",
    "    # read each row of data after the header\n",
    "    for row in csvreader:\n",
    "        print(row)\n",
    "        month.append(row[0])\n",
    "        amount.append(int(row[1]))\n",
    "        if line_num > 1:\n",
    "            change.append(amount[line_num-1] - amount[line_num-2])\n",
    "        line_num += 1"
   ]
  },
  {
   "cell_type": "code",
   "execution_count": 6,
   "id": "0a7fc5ea",
   "metadata": {
    "ExecuteTime": {
     "end_time": "2021-05-06T16:52:40.400159Z",
     "start_time": "2021-05-06T16:52:40.385200Z"
    },
    "scrolled": true
   },
   "outputs": [],
   "source": [
    "# Initiate total number of months\n",
    "count_month = 0\n",
    "# Initiate the net total amount of Profit/Losses \n",
    "total_amount = 0\n",
    "# Initiate the net total changes of Profit/Losses \n",
    "total_chg = 0\n",
    "# Initiate the average amount of Profit/Losses\n",
    "avg_amount = 0\n",
    "# Initiate greatest increase in Profits \n",
    "great_increase = 0\n",
    "# Initiate greatest decrease in Losses\n",
    "great_decrease = 0"
   ]
  },
  {
   "cell_type": "code",
   "execution_count": 7,
   "id": "118b566f",
   "metadata": {
    "ExecuteTime": {
     "end_time": "2021-05-06T16:52:41.815765Z",
     "start_time": "2021-05-06T16:52:41.803798Z"
    }
   },
   "outputs": [],
   "source": [
    "# Loop through list of amount\n",
    "for i in amount:\n",
    "    \n",
    "    # sum the total and count variables\n",
    "    total_amount += i\n",
    "    count_month += 1\n",
    "        \n",
    "# Calculate the average amount of profits/losses\n",
    "avg_amount = round(total_amount / count_month, 2)\n",
    "\n",
    "# Loop through list of change\n",
    "for j in change:\n",
    "    \n",
    "    # sum the total changes\n",
    "    total_chg += j\n",
    "    \n",
    "    # Determine min and max profits/losses\n",
    "    if great_decrease == 0:\n",
    "        great_decrease = j\n",
    "    elif j > great_increase:\n",
    "        great_increase = j\n",
    "    elif j < great_decrease:\n",
    "        great_decrease = j\n",
    "        \n",
    "# Calculate the average changes of Profit/Losses\n",
    "avg_chg = round(total_chg / (count_month-1), 2)"
   ]
  },
  {
   "cell_type": "code",
   "execution_count": 8,
   "id": "2d7addd2",
   "metadata": {
    "ExecuteTime": {
     "end_time": "2021-05-06T16:52:44.969814Z",
     "start_time": "2021-05-06T16:52:44.953885Z"
    }
   },
   "outputs": [
    {
     "name": "stdout",
     "output_type": "stream",
     "text": [
      "Total Months: 86\n",
      "Total: $38382578\n",
      "Average  Change: $-2315.12\n",
      "Greatest Increase in Profits: Feb-2012 ($1926159)\n",
      "Greatest Decrease in Profits: Sep-2013 ($-2196167)\n"
     ]
    }
   ],
   "source": [
    "# Print out the metrics\n",
    "print(f'Total Months: {count_month}')\n",
    "print(f'Total: ${total_amount}')\n",
    "print(f'Average  Change: ${avg_chg}')\n",
    "print(f'Greatest Increase in Profits: {month[change.index(great_increase)+1]} (${great_increase})')\n",
    "print(f'Greatest Decrease in Profits: {month[change.index(great_decrease)+1]} (${great_decrease})')"
   ]
  },
  {
   "cell_type": "code",
   "execution_count": null,
   "id": "5baa1c77",
   "metadata": {},
   "outputs": [],
   "source": [
    "# set the output file path and write the above results\n",
    "output_path = Path('output.txt')\n",
    "\n",
    "with open(output_path, 'w') as file:\n",
    "    file.write(\"Financial Analysis\\n\")\n",
    "    file.write(\"----------------------------\\n\")\n",
    "    file.write(f'Total Months: {count_month}\\n')\n",
    "    file.write(f'Total: ${total_amount}\\n')\n",
    "    file.write(f'Average  Change: ${avg_chg}\\n')\n",
    "    file.write(f'Greatest Increase in Profits: {month[change.index(great_increase)+1]} (${great_increase})\\n')\n",
    "    file.write(f'Greatest Decrease in Profits: {month[change.index(great_decrease)+1]} (${great_decrease})\\n')\n",
    "    "
   ]
  },
  {
   "cell_type": "code",
   "execution_count": null,
   "id": "9e12ff7e",
   "metadata": {},
   "outputs": [],
   "source": []
  }
 ],
 "metadata": {
  "kernelspec": {
   "display_name": "Python 3",
   "language": "python",
   "name": "python3"
  },
  "language_info": {
   "codemirror_mode": {
    "name": "ipython",
    "version": 3
   },
   "file_extension": ".py",
   "mimetype": "text/x-python",
   "name": "python",
   "nbconvert_exporter": "python",
   "pygments_lexer": "ipython3",
   "version": "3.8.5"
  }
 },
 "nbformat": 4,
 "nbformat_minor": 5
}
